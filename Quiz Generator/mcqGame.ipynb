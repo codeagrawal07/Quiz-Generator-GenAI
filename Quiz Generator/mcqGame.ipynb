{
 "cells": [
  {
   "cell_type": "code",
   "execution_count": 1,
   "id": "a25780a7",
   "metadata": {},
   "outputs": [],
   "source": [
    "import os\n",
    "from dotenv import load_dotenv\n",
    "\n",
    "# Load the variables from .env into environment\n",
    "load_dotenv()\n",
    "\n",
    "# Access your key using os.getenv\n",
    "key = os.getenv(\"GOOGLE_API_KEY\")"
   ]
  },
  {
   "cell_type": "code",
   "execution_count": 8,
   "id": "af238210",
   "metadata": {},
   "outputs": [],
   "source": [
    "import google.generativeai as genai\n",
    "\n",
    "genai.configure(api_key=key)\n",
    "\n",
    "model=genai.GenerativeModel(model_name=\"gemini-1.5-flash\")"
   ]
  },
  {
   "cell_type": "code",
   "execution_count": 9,
   "id": "6771c5e5",
   "metadata": {},
   "outputs": [
    {
     "name": "stdout",
     "output_type": "stream",
     "text": [
      "```json\n",
      "{\n",
      "  \"title\": \"Haridwar Travel Quiz\",\n",
      "  \"quiz\": [\n",
      "    {\n",
      "      \"question\": \"Which of these is NOT explicitly mentioned as a place to visit in the Haridwar travel guide?\",\n",
      "      \"options\": [\"Har Ki Pauri\", \"Mansa Devi Temple\", \"Chandi Devi Temple\", \"Taj Mahal\"],\n",
      "      \"answer\": \"Taj Mahal\"\n",
      "    },\n",
      "    {\n",
      "      \"question\": \"According to the video, what is a key activity to experience at Har Ki Pauri?\",\n",
      "      \"options\": [\"River rafting\", \"Trekking\", \"Ganga Aarti\", \"Yoga classes\"],\n",
      "      \"answer\": \"Ganga Aarti\"\n",
      "    },\n",
      "    {\n",
      "      \"question\": \"Besides Haridwar itself, which nearby location is highlighted in the travel guide?\",\n",
      "      \"options\": [\"Agra\", \"Delhi\", \"Rishikesh\", \"Jaipur\"],\n",
      "      \"answer\": \"Rishikesh\"\n",
      "    },\n",
      "    {\n",
      "      \"question\": \"What type of information is covered in the video, in addition to sightseeing locations?\",\n",
      "      \"options\": [\"Only historical facts\", \"Cuisine only\", \"Transportation, safety, and budget options\", \"Weather forecast only\"],\n",
      "      \"answer\": \"Transportation, safety, and budget options\"\n",
      "    }\n",
      "  ]\n",
      "}\n",
      "```\n",
      "\n"
     ]
    }
   ],
   "source": [
    "summary=\"The video provides a comprehensive travel guide to Haridwar, detailing essential places to visit, including Har Ki Pauri for Ganga Aarti, Mansa Devi Temple, and Chandi Devi Temple. It also covers transportation options, safety tips, and nearby attractions like Rishikesh, emphasizing the best times to visit and budget-friendly accommodations.\"\n",
    "prompt=f'''Create four multiple choise question base on this : {summary} Return only JSON in the following format:\n",
    "{{\n",
    "  \"title\": \"\",\n",
    "  \"quiz\": [\n",
    "    {{\n",
    "      \"question\": \"\",\n",
    "      \"options\": [\"\", \"\", \"\", \"\"],\n",
    "      \"answer\": \"\"\n",
    "    }},\n",
    "    ...\n",
    "  ]\n",
    "}} \n",
    "only return valid JSON file'''\n",
    "  \n",
    "response=model.generate_content(prompt)\n",
    "print(response.text)"
   ]
  },
  {
   "cell_type": "code",
   "execution_count": 14,
   "id": "fe458039",
   "metadata": {},
   "outputs": [
    {
     "name": "stdout",
     "output_type": "stream",
     "text": [
      "JSON successfully saved to SummaryToMcq.json\n"
     ]
    }
   ],
   "source": [
    "import json\n",
    "import re\n",
    "\n",
    "match = re.search(r\"\\{.*\\}\", response.text, re.DOTALL)\n",
    "\n",
    "if match:\n",
    "    json_str = match.group()\n",
    "    try:\n",
    "        clear_json = json.loads(json_str)\n",
    "        with open(\"SummaryToMcq.json\", \"w\") as f:\n",
    "            json.dump( clear_json, f, indent=2)\n",
    "        print(\"JSON successfully saved to SummaryToMcq.json\")\n",
    "    except json.JSONDecodeError as e:\n",
    "        print(\"JSON format still invalid. Error:\", e)\n",
    "else:\n",
    "    print(\"Could not find a valid JSON object in the response.\")\n"
   ]
  },
  {
   "cell_type": "code",
   "execution_count": 16,
   "id": "915fd328",
   "metadata": {},
   "outputs": [
    {
     "name": "stdout",
     "output_type": "stream",
     "text": [
      "Title: Haridwar Travel Quiz\n",
      "\n",
      "Q1: Which of these is NOT explicitly mentioned as a place to visit in the Haridwar travel guide?\n",
      " - Har Ki Pauri\n",
      " - Mansa Devi Temple\n",
      " - Chandi Devi Temple\n",
      " - Taj Mahal\n",
      "Answer: Taj Mahal\n",
      "\n",
      "Q2: According to the video, what is a key activity to experience at Har Ki Pauri?\n",
      " - River rafting\n",
      " - Trekking\n",
      " - Ganga Aarti\n",
      " - Yoga classes\n",
      "Answer: Ganga Aarti\n",
      "\n",
      "Q3: Besides Haridwar itself, which nearby location is highlighted in the travel guide?\n",
      " - Agra\n",
      " - Delhi\n",
      " - Rishikesh\n",
      " - Jaipur\n",
      "Answer: Rishikesh\n",
      "\n",
      "Q4: What type of information is covered in the video, in addition to sightseeing locations?\n",
      " - Only historical facts\n",
      " - Cuisine only\n",
      " - Transportation, safety, and budget options\n",
      " - Weather forecast only\n",
      "Answer: Transportation, safety, and budget options\n"
     ]
    }
   ],
   "source": [
    "\n",
    "with open(\"SummaryToMcq.json\", \"r\") as f:\n",
    "    quiz = json.load(f)\n",
    "# Access data\n",
    "print(\"Title:\", quiz[\"title\"])\n",
    "for i, q in enumerate(quiz[\"quiz\"], 1):\n",
    "    print(f\"\\nQ{i}: {q['question']}\")\n",
    "    for opt in q['options']:\n",
    "        print(\" -\", opt)\n",
    "    print(\"Answer:\", q['answer'])\n"
   ]
  },
  {
   "cell_type": "code",
   "execution_count": null,
   "id": "bafb9009",
   "metadata": {},
   "outputs": [],
   "source": []
  }
 ],
 "metadata": {
  "kernelspec": {
   "display_name": "base",
   "language": "python",
   "name": "python3"
  },
  "language_info": {
   "codemirror_mode": {
    "name": "ipython",
    "version": 3
   },
   "file_extension": ".py",
   "mimetype": "text/x-python",
   "name": "python",
   "nbconvert_exporter": "python",
   "pygments_lexer": "ipython3",
   "version": "3.12.4"
  }
 },
 "nbformat": 4,
 "nbformat_minor": 5
}
